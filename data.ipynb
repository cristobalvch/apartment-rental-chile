{
 "metadata": {
  "language_info": {
   "codemirror_mode": {
    "name": "ipython",
    "version": 3
   },
   "file_extension": ".py",
   "mimetype": "text/x-python",
   "name": "python",
   "nbconvert_exporter": "python",
   "pygments_lexer": "ipython3",
   "version": "3.8.5-final"
  },
  "orig_nbformat": 2,
  "kernelspec": {
   "name": "Python 3.8.5 64-bit",
   "display_name": "Python 3.8.5 64-bit",
   "metadata": {
    "interpreter": {
     "hash": "265f6c375f5723599e793514545a17c1828385c656a37de44dc67ad3be04634e"
    }
   }
  }
 },
 "nbformat": 4,
 "nbformat_minor": 2,
 "cells": [
  {
   "cell_type": "code",
   "execution_count": 1,
   "metadata": {
    "tags": []
   },
   "outputs": [],
   "source": [
    "from helpers import *\n",
    "import pandas as pd \n",
    "import numpy as np \n",
    "import re\n",
    "from geopy.geocoders import Nominatim\n",
    "geolocator = Nominatim(user_agent=\"my_app3\")\n",
    "\n",
    "import time"
   ]
  },
  {
   "cell_type": "code",
   "execution_count": 2,
   "metadata": {
    "tags": []
   },
   "outputs": [
    {
     "output_type": "stream",
     "name": "stdout",
     "text": "Total informacion extraida de departamentos en arriendo: 250\nWeb Scraping Completado!\n\n"
    }
   ],
   "source": [
    "#Realizar Web Scraping \n",
    "\"\"\"\n",
    "Region: Recomendable escribir nombre de region igual al configurado  por defecto en la pagina de portal inmobiliario\n",
    "        fijarse en url de busqueda, por ejemplo: al escribir santiago en buscador principal, la pagina redirige a los resultados con la         categoria \"santiago-metropolitana\"\n",
    "pagina principal: https://www.portalinmobiliario.com/\n",
    "ejemplo nombre de region url: https://www.portalinmobiliario.com/arriendo/departamento/santiago-metropolitana\n",
    "\n",
    "Pages: Cantidad de paginas de resultados para la busqueda de ofertas,  no se puede superar el numero de paginas de resultados que existen en portalinmobiliario según la region especificada.\n",
    "\n",
    "Scopes: pueden ser arriendo o venta.\n",
    "\"\"\"\n",
    "\n",
    "df = webscraping_deptos(region=\"santiago-metropolitana\",pages=5,scope='arriendo')"
   ]
  },
  {
   "cell_type": "code",
   "execution_count": 3,
   "metadata": {},
   "outputs": [],
   "source": [
    "def clean_data(df):\n",
    "    df = df[df.titulo.notnull()]\n",
    "    df['titulo'] = df['titulo'].str.replace(r\"\\n|\\t\",\"\")\n",
    "    df['titulo'] = df['titulo'].str.replace(r\"\\n|\\t\",\"\")\n",
    "    df['descripcion'] = df['descripcion'].str.replace(r\"\\n|\\t\",\"\")\n",
    "    df['ambiente'] = df['ambiente'].str.replace(r\"\\n\",\"\").str.replace(r\"\\t\\t\",\"; \").str.replace(r\"\\t\",\"\")\n",
    "    df['comodidades'] = df['comodidades'].str.replace(r\"\\n\",\"\").str.replace(r\"\\t\\t\",\"; \").str.replace(r\"\\t\",\"\")\n",
    "    df['otras caracteristicas'] = df['otras caracteristicas'].str.replace(r\"\\n\",\"\").str.replace(r\"\\t\\t\",\"; \").str.replace(r\"\\t\",\"\")\n",
    "    df['precio'] = df['precio'].str.replace(\".\",\"\")\n",
    "    df['gastos comunes'] = df['gastos comunes'].str.replace(\"CLP\",\"\")\n",
    "    df['habitaciones'] = df['habitaciones'].str.replace(r\"-\\s+\\d\\s\\w*\",\"\").str.replace('Dormitorio',\"\").str.strip()\n",
    "    df['banos'] = df['banos'].str.replace(r\"-\\s+\\d\\s\\w*\",\"\").str.replace(r'Baño|s',\"\").str.strip()\n",
    "    df['direccion'] = df['direccion'].str.replace(\"/\",\",\")\n",
    "    df['m2_utiles'] = df['m2_utiles'].str.replace(r\"-.*$|m.\",\"\")\n",
    "\n",
    "    return df"
   ]
  },
  {
   "cell_type": "code",
   "execution_count": 4,
   "metadata": {},
   "outputs": [],
   "source": [
    "df = clean_data(df)"
   ]
  },
  {
   "cell_type": "code",
   "execution_count": 5,
   "metadata": {},
   "outputs": [],
   "source": [
    "#Agregar coordenadas geograficas de direcciones a Data Frame con libreria geopy\n",
    "targets_address= df['direccion'].tolist()\n",
    "\n",
    "latitude = []\n",
    "longitude = []\n",
    "\n",
    "for target in targets_address:\n",
    "\n",
    "    location = geolocator.geocode(target)\n",
    "    if location == None:\n",
    "        latitude.append(np.nan)\n",
    "        longitude.append(np.nan)\n",
    "    else:\n",
    "        latitude.append(location.latitude)\n",
    "        longitude.append(location.longitude)"
   ]
  },
  {
   "cell_type": "code",
   "execution_count": 6,
   "metadata": {},
   "outputs": [],
   "source": [
    "#Almacenar resultados en Data Frame\n",
    "df['latitude'] = latitude\n",
    "df['longitude'] = longitude"
   ]
  },
  {
   "cell_type": "code",
   "execution_count": 7,
   "metadata": {},
   "outputs": [],
   "source": [
    "#Crear nuevo data frame con  direcciones validas y coordeandas geograficas no nulas \n",
    "geo_df = df[~df['latitude'].isnull()]\n",
    "geo_df['City'] = 'Santiago'"
   ]
  },
  {
   "cell_type": "code",
   "execution_count": 8,
   "metadata": {},
   "outputs": [],
   "source": [
    "geo_df.to_csv('data/santiago.csv',index=False)"
   ]
  }
 ]
}